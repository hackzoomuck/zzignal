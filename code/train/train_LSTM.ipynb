{
 "cells": [
  {
   "cell_type": "code",
   "execution_count": 32,
   "metadata": {
    "id": "VM0Uf-CEd7B0"
   },
   "outputs": [],
   "source": [
    "import os\n",
    "import math\n",
    "from sklearn.model_selection import train_test_split\n",
    "from sklearn.preprocessing import MinMaxScaler\n",
    "import matplotlib.pyplot as plt\n",
    "\n",
    "import numpy as np\n",
    "import tensorflow as tf\n",
    "\n",
    "from keras.utils import np_utils\n",
    "from tensorflow.keras.preprocessing.text import Tokenizer\n",
    "from keras.preprocessing import sequence\n",
    "from tensorflow.keras.preprocessing.sequence import pad_sequences\n",
    "from tensorflow.keras.utils import to_categorical\n",
    "\n",
    "from tensorflow.keras.models import Sequential\n",
    "from tensorflow.keras.layers import Embedding, LSTM, Dense, SimpleRNN"
   ]
  },
  {
   "cell_type": "markdown",
   "metadata": {
    "id": "H9rjDF5Hd7CC"
   },
   "source": [
    "## Train"
   ]
  },
  {
   "cell_type": "markdown",
   "metadata": {
    "id": "B1ccqLUpd7CC"
   },
   "source": [
    "> - 양손 + 거리값 + 정규화\n",
    "> - loss: 0.0264 - accuracy: 0.9985 - val_loss: 0.3806 - val_accuracy: 0.8957"
   ]
  },
  {
   "cell_type": "markdown",
   "metadata": {
    "id": "GNH13QvzeCjb"
   },
   "source": [
    "### 1) train, test data 준비"
   ]
  },
  {
   "cell_type": "code",
   "execution_count": 5,
   "metadata": {
    "id": "Wh_fpz-wd7CC",
    "outputId": "570e210d-1073-44ed-a4da-dc644e3a62fb"
   },
   "outputs": [
    {
     "data": {
      "text/html": [
       "<div>\n",
       "<style scoped>\n",
       "    .dataframe tbody tr th:only-of-type {\n",
       "        vertical-align: middle;\n",
       "    }\n",
       "\n",
       "    .dataframe tbody tr th {\n",
       "        vertical-align: top;\n",
       "    }\n",
       "\n",
       "    .dataframe thead th {\n",
       "        text-align: right;\n",
       "    }\n",
       "</style>\n",
       "<table border=\"1\" class=\"dataframe\">\n",
       "  <thead>\n",
       "    <tr style=\"text-align: right;\">\n",
       "      <th></th>\n",
       "      <th>file</th>\n",
       "      <th>label</th>\n",
       "    </tr>\n",
       "  </thead>\n",
       "  <tbody>\n",
       "    <tr>\n",
       "      <th>0</th>\n",
       "      <td>output_text/0/WIN_20201217_18_56_05_Pro.txt</td>\n",
       "      <td>0</td>\n",
       "    </tr>\n",
       "    <tr>\n",
       "      <th>1</th>\n",
       "      <td>output_text/0/KETI_SL_0000004610.txt</td>\n",
       "      <td>0</td>\n",
       "    </tr>\n",
       "    <tr>\n",
       "      <th>2</th>\n",
       "      <td>output_text/0/WIN_20201217_18_54_55_Pro.txt</td>\n",
       "      <td>0</td>\n",
       "    </tr>\n",
       "    <tr>\n",
       "      <th>3</th>\n",
       "      <td>output_text/0/WIN_20201217_18_15_49_Pro.txt</td>\n",
       "      <td>0</td>\n",
       "    </tr>\n",
       "    <tr>\n",
       "      <th>4</th>\n",
       "      <td>output_text/0/WIN_20201217_18_15_51_Pro.txt</td>\n",
       "      <td>0</td>\n",
       "    </tr>\n",
       "  </tbody>\n",
       "</table>\n",
       "</div>"
      ],
      "text/plain": [
       "                                          file label\n",
       "0  output_text/0/WIN_20201217_18_56_05_Pro.txt     0\n",
       "1         output_text/0/KETI_SL_0000004610.txt     0\n",
       "2  output_text/0/WIN_20201217_18_54_55_Pro.txt     0\n",
       "3  output_text/0/WIN_20201217_18_15_49_Pro.txt     0\n",
       "4  output_text/0/WIN_20201217_18_15_51_Pro.txt     0"
      ]
     },
     "metadata": {},
     "output_type": "display_data"
    }
   ],
   "source": [
    "input_path = 'output_text'\n",
    "\n",
    "train_files = []\n",
    "train_categories=[]\n",
    "\n",
    "word_list = os.listdir(input_path) \n",
    "\n",
    "for word in word_list:\n",
    "    if word == '.ipynb_checkpoints':\n",
    "        continue\n",
    "    text_list = os.listdir(input_path +'/'+ word)\n",
    "    for file_name in text_list:\n",
    "        train_files.append(input_path +'/'+ word + '/' + file_name)\n",
    "        train_categories.append(word)\n",
    "\n",
    "train_data = pd.DataFrame(\n",
    "            {'file' : train_files,\n",
    "             'label': train_categories  \n",
    "            })\n",
    "display(train_data.head())\n",
    "train_df, valid_df = train_test_split(train_data, test_size=0.2,\n",
    "                                     random_state=42, stratify=train_data['label'])"
   ]
  },
  {
   "cell_type": "markdown",
   "metadata": {
    "id": "y5g1X5Ted7CD"
   },
   "source": [
    "### 2) train/test data x, y 분리\r\n",
    "- x 데이터에는 프레임 단위로, 좌표끼리의 거리값을 계산하여 정규화 후 사용한다.\r\n",
    "- y 데이터에는 수어 손동작의 뜻을 입력한다."
   ]
  },
  {
   "cell_type": "code",
   "execution_count": 31,
   "metadata": {},
   "outputs": [],
   "source": [
    "# 좌표간 거리 계산 함수\n",
    "def get_distance(row):\n",
    "    left = row[0:42]\n",
    "    right = row[42:]\n",
    "    dlist = []\n",
    "    for i in range(0, len(left), 2):\n",
    "        for j in range(i+2, len(left), 2):\n",
    "            x1 = left[i]\n",
    "            x2 = left[i+1]\n",
    "            y1 = left[j]\n",
    "            y2 = left[j+1]\n",
    "            dlist.append(math.hypot(x2-x1, y2-y1))\n",
    "    for i in range(0, len(right), 2):\n",
    "        for j in range(i+2, len(right), 2):\n",
    "            x1 = right[i]\n",
    "            x2 = right[j]\n",
    "            y1 = right[i+1]\n",
    "            y2 = right[j+1]\n",
    "            dlist.append(math.hypot(x2-x1, y2-y1))\n",
    "    return dlist"
   ]
  },
  {
   "cell_type": "code",
   "execution_count": 6,
   "metadata": {
    "executionInfo": {
     "elapsed": 2142,
     "status": "aborted",
     "timestamp": 1608791999715,
     "user": {
      "displayName": "­김주현",
      "photoUrl": "",
      "userId": "13760449096614930877"
     },
     "user_tz": -540
    },
    "id": "c7dOSjVMd7CE"
   },
   "outputs": [
    {
     "name": "stdout",
     "output_type": "stream",
     "text": [
      "(652,)\n",
      "(652,)\n"
     ]
    }
   ],
   "source": [
    "# x_train, y_train 생성\n",
    "x_train = []\n",
    "y_train = [] # label\n",
    "\n",
    "scaler = MinMaxScaler()\n",
    "for file_name in train_df['file']:\n",
    "    with open(file_name, mode = 'r') as f:\n",
    "        numbers = [float(num[:-1]) for num in f.read().split()]\n",
    "    ex = np.array(numbers).reshape(-1, 84)\n",
    "    distance_list = []\n",
    "    for row in range(len(ex)):\n",
    "        distance = get_distance(ex[row].tolist()) # 1 프레임\n",
    "        distance2 = np.array(distance).reshape(-1,1)\n",
    "        scaler.fit(distance2)\n",
    "        distance2 = scaler.transform(distance2)\n",
    "        distance2 = distance2.reshape(1,-1)[0]\n",
    "        distance_list.extend(distance2.tolist())   \n",
    "    x_train.append(distance_list)\n",
    "    \n",
    "for word_label in train_df['label']:\n",
    "    y_train.append(word_label)\n",
    "    \n",
    "print(np.array(x_train).shape) \n",
    "print(np.array(y_train).shape)"
   ]
  },
  {
   "cell_type": "code",
   "execution_count": 7,
   "metadata": {
    "executionInfo": {
     "elapsed": 2133,
     "status": "aborted",
     "timestamp": 1608791999717,
     "user": {
      "displayName": "­김주현",
      "photoUrl": "",
      "userId": "13760449096614930877"
     },
     "user_tz": -540
    },
    "id": "Fcw1jrq2d7CE"
   },
   "outputs": [
    {
     "name": "stdout",
     "output_type": "stream",
     "text": [
      "(163,)\n",
      "(163,)\n"
     ]
    }
   ],
   "source": [
    "# x_test, y_test 생성\n",
    "x_test = [] \n",
    "y_test = [] # label\n",
    "\n",
    "scaler = MinMaxScaler()\n",
    "for file_name in valid_df['file']:\n",
    "    with open(file_name, mode = 'r') as f:\n",
    "        numbers = [float(num[:-1]) for num in f.read().split()]\n",
    "    ex = np.array(numbers).reshape(-1, 84)\n",
    "    distance_list = []\n",
    "    for row in range(len(ex)):\n",
    "        distance = get_distance(ex[row].tolist()) # 1 프레임\n",
    "        distance2 = np.array(distance).reshape(-1,1)\n",
    "        scaler.fit(distance2)\n",
    "        distance2 = scaler.transform(distance2)\n",
    "        distance2 = distance2.reshape(1,-1)[0]\n",
    "        distance_list.extend(distance2.tolist())   \n",
    "    x_test.append(distance_list)                  \n",
    "    \n",
    "for word_label in valid_df['label']:\n",
    "    y_test.append(word_label)\n",
    "\n",
    "print(np.array(x_test).shape) \n",
    "print(np.array(y_test).shape)"
   ]
  },
  {
   "cell_type": "markdown",
   "metadata": {
    "executionInfo": {
     "elapsed": 2122,
     "status": "aborted",
     "timestamp": 1608791999719,
     "user": {
      "displayName": "­김주현",
      "photoUrl": "",
      "userId": "13760449096614930877"
     },
     "user_tz": -540
    },
    "id": "n4vWMAN3d7CF"
   },
   "source": [
    "### 3) Tokenizer  & One-hot encoding"
   ]
  },
  {
   "cell_type": "code",
   "execution_count": 8,
   "metadata": {
    "executionInfo": {
     "elapsed": 2109,
     "status": "aborted",
     "timestamp": 1608791999720,
     "user": {
      "displayName": "­김주현",
      "photoUrl": "",
      "userId": "13760449096614930877"
     },
     "user_tz": -540
    },
    "id": "O9Eisphud7CF"
   },
   "outputs": [
    {
     "name": "stdout",
     "output_type": "stream",
     "text": [
      "0 1 2 3 4 5 6 7 8 9 계획 날씨 뉴스 도움 시작1 시작2 일 \n",
      "{'0': 1, '1': 2, '2': 3, '3': 4, '4': 5, '5': 6, '6': 7, '7': 8, '8': 9, '9': 10, '계획': 11, '날씨': 12, '뉴스': 13, '도움': 14, '시작1': 15, '시작2': 16, '일': 17}\n",
      "['0', '1', '2', '3', '4', '5', '6', '7', '8', '9', '계획', '날씨', '뉴스', '도움', '시작1', '시작2', '일']\n"
     ]
    }
   ],
   "source": [
    "# Tokenizer \n",
    "y_set = set(y_train)\n",
    "y_set = sorted(y_set)\n",
    "text = \"\"\n",
    "for i in y_set:\n",
    "    text = text + str(i) + \" \"\n",
    "\n",
    "print(text)\n",
    "\n",
    "tk = Tokenizer()\n",
    "tk.fit_on_texts([text]) # Tokenizer에 실제 데이터 입력\n",
    "print(tk.word_index)\n",
    "\n",
    "category = list(y_set)\n",
    "print(category)\n",
    "# ['0', '1', '2', '3', '4', '5', '6', '7', '8', '9', '계획', '날씨', '뉴스', '도움', '시작1', '시작2', '일']\n",
    "# one-hot encoding 이후에는, category list의 맨 앞에 다른 값을 채워 index 순서를 맞춘다."
   ]
  },
  {
   "cell_type": "code",
   "execution_count": 14,
   "metadata": {},
   "outputs": [
    {
     "name": "stdout",
     "output_type": "stream",
     "text": [
      "시작1\n",
      "[0. 0. 0. 0. 0. 0. 0. 0. 0. 0. 0. 0. 0. 0. 0. 1. 0. 0.]\n"
     ]
    }
   ],
   "source": [
    "y_train_encoded = tk.texts_to_sequences([y_train])[0] # 문장을 입력받아 숫자를 반환\n",
    "y_test_encoded = tk.texts_to_sequences([y_test])[0]\n",
    "\n",
    "y_train_one_hot = to_categorical(y_train_encoded)\n",
    "y_test_one_hot = to_categorical(y_test_encoded)\n",
    "\n",
    "print(y_test[0])\n",
    "print(y_test_one_hot[0]) # one-hot encoding"
   ]
  },
  {
   "cell_type": "markdown",
   "metadata": {},
   "source": [
    "### 4) Zero-Padding"
   ]
  },
  {
   "cell_type": "code",
   "execution_count": 16,
   "metadata": {},
   "outputs": [
    {
     "data": {
      "image/png": "[encoded data removed]",
      "text/plain": [
       "<Figure size 432x288 with 1 Axes>"
      ]
     },
     "metadata": {
      "needs_background": "light"
     },
     "output_type": "display_data"
    },
    {
     "name": "stdout",
     "output_type": "stream",
     "text": [
      "420\n",
      "81060\n",
      "25468\n"
     ]
    }
   ],
   "source": [
    "# x 데이터 파일마다 프레임 길이가 다르다.\n",
    "x_train_data_len = [len(x_train_data) for x_train_data in x_train]\n",
    "x_train_data_len.sort()\n",
    "plt.plot(x_train_data_len)\n",
    "plt.show()\n",
    "\n",
    "print(min(x_train_data_len))\n",
    "print(max(x_train_data_len))\n",
    "print(sum(x_train_data_len)//len(x_train_data_len)) # 평균\n",
    "\n",
    "del x_train_data_len"
   ]
  },
  {
   "cell_type": "code",
   "execution_count": 20,
   "metadata": {
    "executionInfo": {
     "elapsed": 2091,
     "status": "aborted",
     "timestamp": 1608791999723,
     "user": {
      "displayName": "­김주현",
      "photoUrl": "",
      "userId": "13760449096614930877"
     },
     "user_tz": -540
    },
    "id": "oJyeImEHd7CG"
   },
   "outputs": [
    {
     "name": "stdout",
     "output_type": "stream",
     "text": [
      "193\n"
     ]
    }
   ],
   "source": [
    "# x 데이터 크기 맞추기\n",
    "# x_train의 최대 프레임 길이로 zero-padding\n",
    "x_train_same_size = pad_sequences(x_train, dtype='float32')\n",
    "max_len = len(x_train_same_size[-1])\n",
    "x_test_same_size = pad_sequences(x_test, dtype='float32', maxlen=max_len)\n",
    "\n",
    "frame_num = max_len//420\n",
    "print(frame_num)"
   ]
  },
  {
   "cell_type": "code",
   "execution_count": 23,
   "metadata": {
    "executionInfo": {
     "elapsed": 2082,
     "status": "aborted",
     "timestamp": 1608791999724,
     "user": {
      "displayName": "­김주현",
      "photoUrl": "",
      "userId": "13760449096614930877"
     },
     "user_tz": -540
    },
    "id": "xAVc3v4qd7CG"
   },
   "outputs": [
    {
     "name": "stdout",
     "output_type": "stream",
     "text": [
      "x_train_data_len\n"
     ]
    },
    {
     "data": {
      "image/png": "[encoded data removed]",
      "text/plain": [
       "<Figure size 432x288 with 1 Axes>"
      ]
     },
     "metadata": {
      "needs_background": "light"
     },
     "output_type": "display_data"
    },
    {
     "name": "stdout",
     "output_type": "stream",
     "text": [
      "x_test_data_len\n"
     ]
    },
    {
     "data": {
      "image/png": "[encoded data removed]",
      "text/plain": [
       "<Figure size 432x288 with 1 Axes>"
      ]
     },
     "metadata": {
      "needs_background": "light"
     },
     "output_type": "display_data"
    }
   ],
   "source": [
    "# 이제 x_train, x_test 길이가 모두 균일하다.\n",
    "\n",
    "print('x_train_data_len')\n",
    "x_train_data_len = [len(x_train_data) for x_train_data in x_train_same_size]\n",
    "x_train_data_len.sort()\n",
    "plt.plot(x_train_data_len)\n",
    "plt.show()\n",
    "del x_train_data_len\n",
    "\n",
    "print('x_test_data_len')\n",
    "x_test_data_len = [len(x_test_data) for x_test_data in x_test_same_size]\n",
    "x_test_data_len.sort()\n",
    "plt.plot(x_test_data_len)\n",
    "plt.show()"
   ]
  },
  {
   "cell_type": "markdown",
   "metadata": {},
   "source": [
    "### 4) LSTM 학습을 위해 3차원으로 변환하기\n",
    "- (데이터 개수인 batch_size, 프레임 길이인 timesteps, 한 프레임 당 거리값 개수인 input_dim 순서)\n",
    "- 한 손에는 21개의 좌표가 있다.\n",
    "- 각 좌표간 10개의 손가락과의 거리를 계산하여 210개의 거리값 * 2 (양손) => 420이 input_dim에 해당한다."
   ]
  },
  {
   "cell_type": "code",
   "execution_count": 27,
   "metadata": {
    "executionInfo": {
     "elapsed": 2060,
     "status": "aborted",
     "timestamp": 1608791999725,
     "user": {
      "displayName": "­김주현",
      "photoUrl": "",
      "userId": "13760449096614930877"
     },
     "user_tz": -540
    },
    "id": "kvDNZ8cad7CH"
   },
   "outputs": [
    {
     "name": "stdout",
     "output_type": "stream",
     "text": [
      "(652, 193, 420)\n",
      "(652, 18)\n",
      "(163, 193, 420)\n",
      "(163, 18)\n"
     ]
    }
   ],
   "source": [
    "x_train = x_train_same_size.reshape(x_train_same_size.shape[0], -1, 420)\n",
    "x_test = x_test_same_size.reshape(x_test_same_size.shape[0], -1, 420)\n",
    "\n",
    "y_train = y_train_one_hot\n",
    "y_test = y_test_one_hot\n",
    "y_train = np.array(y_train)\n",
    "y_test = np.array(y_test)\n",
    "\n",
    "print(x_train.shape)\n",
    "print(y_train.shape)\n",
    "print(x_test.shape)\n",
    "print(y_test.shape)\n",
    "\n",
    "del x_train_same_size\n",
    "del x_test_same_size\n",
    "del y_train_one_hot\n",
    "del y_test_one_hot"
   ]
  },
  {
   "cell_type": "code",
   "execution_count": 28,
   "metadata": {
    "executionInfo": {
     "elapsed": 2051,
     "status": "aborted",
     "timestamp": 1608791999726,
     "user": {
      "displayName": "­김주현",
      "photoUrl": "",
      "userId": "13760449096614930877"
     },
     "user_tz": -540
    },
    "id": "azq_msuHd7CI"
   },
   "outputs": [
    {
     "name": "stdout",
     "output_type": "stream",
     "text": [
      "193 420\n"
     ]
    }
   ],
   "source": [
    "a = x_train.shape[1]\n",
    "b = x_train.shape[2]\n",
    "# input shape will be (a, b)\n",
    "print(a, b)"
   ]
  },
  {
   "cell_type": "markdown",
   "metadata": {
    "id": "jH1fDmKEd7CI"
   },
   "source": [
    "### 5) LSTM 학습\n",
    "- LSTM layer 2개 사용\n",
    "- LSTM layer 3개를 사용할 경우, 정확도가 높아질 것이라 예측했지만 실제로 큰 차이는 없었다.\n",
    "- 따라서 layer 2개의 LSTM 모델이, 서비스화 했을 때의 예측값 응답 시간이 짧아 최종 모델로 적합하다고 판단했다."
   ]
  },
  {
   "cell_type": "code",
   "execution_count": 29,
   "metadata": {
    "id": "E477sdfod7CJ",
    "outputId": "7be32423-8d52-41e5-dd20-0a696bde6d49"
   },
   "outputs": [
    {
     "name": "stdout",
     "output_type": "stream",
     "text": [
      "Model: \"sequential\"\n",
      "_________________________________________________________________\n",
      "Layer (type)                 Output Shape              Param #   \n",
      "=================================================================\n",
      "lstm (LSTM)                  (None, 193, 64)           124160    \n",
      "_________________________________________________________________\n",
      "lstm_1 (LSTM)                (None, 32)                12416     \n",
      "_________________________________________________________________\n",
      "dense (Dense)                (None, 18)                594       \n",
      "=================================================================\n",
      "Total params: 137,170\n",
      "Trainable params: 137,170\n",
      "Non-trainable params: 0\n",
      "_________________________________________________________________\n",
      "Training stage\n",
      "==============\n",
      "Epoch 1/71\n",
      "41/41 [==============================] - 1s 34ms/step - loss: 2.6593 - accuracy: 0.1687 - val_loss: 2.3851 - val_accuracy: 0.2822\n",
      "Epoch 2/71\n",
      "41/41 [==============================] - 1s 16ms/step - loss: 2.2067 - accuracy: 0.3328 - val_loss: 2.0779 - val_accuracy: 0.3620\n",
      "Epoch 3/71\n",
      "41/41 [==============================] - 1s 17ms/step - loss: 1.8612 - accuracy: 0.4417 - val_loss: 1.8099 - val_accuracy: 0.3620\n",
      "Epoch 4/71\n",
      "41/41 [==============================] - 1s 17ms/step - loss: 1.6918 - accuracy: 0.4893 - val_loss: 1.7473 - val_accuracy: 0.4172\n",
      "Epoch 5/71\n",
      "41/41 [==============================] - 1s 17ms/step - loss: 1.4997 - accuracy: 0.5429 - val_loss: 1.3444 - val_accuracy: 0.6012\n",
      "Epoch 6/71\n",
      "41/41 [==============================] - 1s 17ms/step - loss: 1.3398 - accuracy: 0.5936 - val_loss: 1.4310 - val_accuracy: 0.5460\n",
      "Epoch 7/71\n",
      "41/41 [==============================] - 1s 17ms/step - loss: 1.1667 - accuracy: 0.6411 - val_loss: 1.1895 - val_accuracy: 0.6442\n",
      "Epoch 8/71\n",
      "41/41 [==============================] - 1s 17ms/step - loss: 1.1352 - accuracy: 0.6810 - val_loss: 1.5702 - val_accuracy: 0.4663\n",
      "Epoch 9/71\n",
      "41/41 [==============================] - 1s 17ms/step - loss: 1.3310 - accuracy: 0.6258 - val_loss: 1.1619 - val_accuracy: 0.6442\n",
      "Epoch 10/71\n",
      "41/41 [==============================] - 1s 17ms/step - loss: 1.0048 - accuracy: 0.7101 - val_loss: 0.9594 - val_accuracy: 0.7178\n",
      "Epoch 11/71\n",
      "41/41 [==============================] - 1s 17ms/step - loss: 0.8422 - accuracy: 0.7730 - val_loss: 0.9540 - val_accuracy: 0.6871\n",
      "Epoch 12/71\n",
      "41/41 [==============================] - 1s 18ms/step - loss: 0.8412 - accuracy: 0.7423 - val_loss: 0.9922 - val_accuracy: 0.6503\n",
      "Epoch 13/71\n",
      "41/41 [==============================] - 1s 17ms/step - loss: 0.7767 - accuracy: 0.7899 - val_loss: 1.0155 - val_accuracy: 0.7117\n",
      "Epoch 14/71\n",
      "41/41 [==============================] - 1s 17ms/step - loss: 0.7199 - accuracy: 0.8006 - val_loss: 0.8751 - val_accuracy: 0.7485\n",
      "Epoch 15/71\n",
      "41/41 [==============================] - 1s 17ms/step - loss: 0.7042 - accuracy: 0.7837 - val_loss: 0.9053 - val_accuracy: 0.7055\n",
      "Epoch 16/71\n",
      "41/41 [==============================] - 1s 17ms/step - loss: 0.6839 - accuracy: 0.7837 - val_loss: 0.8150 - val_accuracy: 0.7975\n",
      "Epoch 17/71\n",
      "41/41 [==============================] - 1s 17ms/step - loss: 0.5796 - accuracy: 0.8313 - val_loss: 0.8227 - val_accuracy: 0.7301\n",
      "Epoch 18/71\n",
      "41/41 [==============================] - 1s 17ms/step - loss: 0.6126 - accuracy: 0.8221 - val_loss: 0.6986 - val_accuracy: 0.7730\n",
      "Epoch 19/71\n",
      "41/41 [==============================] - 1s 17ms/step - loss: 0.6197 - accuracy: 0.8037 - val_loss: 0.7896 - val_accuracy: 0.7669\n",
      "Epoch 20/71\n",
      "41/41 [==============================] - 1s 17ms/step - loss: 0.6161 - accuracy: 0.8175 - val_loss: 0.8210 - val_accuracy: 0.7301\n",
      "Epoch 21/71\n",
      "41/41 [==============================] - 1s 17ms/step - loss: 0.5321 - accuracy: 0.8528 - val_loss: 0.5957 - val_accuracy: 0.8466\n",
      "Epoch 22/71\n",
      "41/41 [==============================] - 1s 17ms/step - loss: 0.5131 - accuracy: 0.8528 - val_loss: 0.7615 - val_accuracy: 0.7485\n",
      "Epoch 23/71\n",
      "41/41 [==============================] - 1s 17ms/step - loss: 0.5850 - accuracy: 0.8160 - val_loss: 0.9224 - val_accuracy: 0.6748\n",
      "Epoch 24/71\n",
      "41/41 [==============================] - 1s 17ms/step - loss: 0.5828 - accuracy: 0.8267 - val_loss: 0.8600 - val_accuracy: 0.7485\n",
      "Epoch 25/71\n",
      "41/41 [==============================] - 1s 18ms/step - loss: 0.5620 - accuracy: 0.8252 - val_loss: 0.7284 - val_accuracy: 0.7423\n",
      "Epoch 26/71\n",
      "41/41 [==============================] - 1s 17ms/step - loss: 0.4048 - accuracy: 0.8988 - val_loss: 0.6772 - val_accuracy: 0.7791\n",
      "Epoch 27/71\n",
      "41/41 [==============================] - 1s 17ms/step - loss: 0.3844 - accuracy: 0.8911 - val_loss: 0.5540 - val_accuracy: 0.8405\n",
      "Epoch 28/71\n",
      "41/41 [==============================] - 1s 17ms/step - loss: 0.3811 - accuracy: 0.8972 - val_loss: 0.5159 - val_accuracy: 0.8528\n",
      "Epoch 29/71\n",
      "41/41 [==============================] - 1s 17ms/step - loss: 0.3154 - accuracy: 0.9064 - val_loss: 0.5430 - val_accuracy: 0.8650\n",
      "Epoch 30/71\n",
      "41/41 [==============================] - 1s 17ms/step - loss: 0.4307 - accuracy: 0.8758 - val_loss: 0.6958 - val_accuracy: 0.7853\n",
      "Epoch 31/71\n",
      "41/41 [==============================] - 1s 17ms/step - loss: 0.3787 - accuracy: 0.8942 - val_loss: 0.6057 - val_accuracy: 0.7853\n",
      "Epoch 32/71\n",
      "41/41 [==============================] - 1s 17ms/step - loss: 0.4063 - accuracy: 0.8773 - val_loss: 0.6039 - val_accuracy: 0.8282\n",
      "Epoch 33/71\n",
      "41/41 [==============================] - 1s 17ms/step - loss: 0.2953 - accuracy: 0.9172 - val_loss: 0.5126 - val_accuracy: 0.8528\n",
      "Epoch 34/71\n",
      "41/41 [==============================] - 1s 17ms/step - loss: 0.2630 - accuracy: 0.9356 - val_loss: 0.5574 - val_accuracy: 0.8160\n",
      "Epoch 35/71\n",
      "41/41 [==============================] - 1s 17ms/step - loss: 0.3774 - accuracy: 0.8834 - val_loss: 0.8489 - val_accuracy: 0.7362\n",
      "Epoch 36/71\n",
      "41/41 [==============================] - 1s 17ms/step - loss: 0.4201 - accuracy: 0.8742 - val_loss: 0.5174 - val_accuracy: 0.8344\n",
      "Epoch 37/71\n",
      "41/41 [==============================] - 1s 17ms/step - loss: 0.2386 - accuracy: 0.9371 - val_loss: 0.4496 - val_accuracy: 0.8834\n",
      "Epoch 38/71\n",
      "41/41 [==============================] - 1s 17ms/step - loss: 0.2000 - accuracy: 0.9586 - val_loss: 0.4604 - val_accuracy: 0.8650\n",
      "Epoch 39/71\n",
      "41/41 [==============================] - 1s 17ms/step - loss: 0.1683 - accuracy: 0.9586 - val_loss: 0.5254 - val_accuracy: 0.8405\n",
      "Epoch 40/71\n",
      "41/41 [==============================] - 1s 17ms/step - loss: 0.3530 - accuracy: 0.9034 - val_loss: 0.6131 - val_accuracy: 0.8037\n",
      "Epoch 41/71\n",
      "41/41 [==============================] - 1s 17ms/step - loss: 0.2911 - accuracy: 0.9264 - val_loss: 0.5608 - val_accuracy: 0.8405\n",
      "Epoch 42/71\n",
      "41/41 [==============================] - 1s 17ms/step - loss: 0.2527 - accuracy: 0.9264 - val_loss: 0.5917 - val_accuracy: 0.8344\n",
      "Epoch 43/71\n",
      "41/41 [==============================] - 1s 17ms/step - loss: 0.2382 - accuracy: 0.9371 - val_loss: 0.4482 - val_accuracy: 0.8466\n",
      "Epoch 44/71\n",
      "41/41 [==============================] - 1s 17ms/step - loss: 0.1919 - accuracy: 0.9463 - val_loss: 0.4137 - val_accuracy: 0.8589\n",
      "Epoch 45/71\n",
      "41/41 [==============================] - 1s 17ms/step - loss: 0.1592 - accuracy: 0.9601 - val_loss: 0.4689 - val_accuracy: 0.8466\n",
      "Epoch 46/71\n",
      "41/41 [==============================] - 1s 17ms/step - loss: 0.2500 - accuracy: 0.9218 - val_loss: 0.5597 - val_accuracy: 0.8282\n",
      "Epoch 47/71\n",
      "41/41 [==============================] - 1s 17ms/step - loss: 0.2368 - accuracy: 0.9402 - val_loss: 0.5070 - val_accuracy: 0.8589\n",
      "Epoch 48/71\n",
      "41/41 [==============================] - 1s 17ms/step - loss: 0.1512 - accuracy: 0.9632 - val_loss: 0.4034 - val_accuracy: 0.8650\n",
      "Epoch 49/71\n",
      "41/41 [==============================] - 1s 17ms/step - loss: 0.1421 - accuracy: 0.9647 - val_loss: 0.4310 - val_accuracy: 0.8957\n",
      "Epoch 50/71\n",
      "41/41 [==============================] - 1s 17ms/step - loss: 0.1273 - accuracy: 0.9678 - val_loss: 0.3464 - val_accuracy: 0.8957\n",
      "Epoch 51/71\n",
      "41/41 [==============================] - 1s 17ms/step - loss: 0.1495 - accuracy: 0.9571 - val_loss: 0.4407 - val_accuracy: 0.8650\n",
      "Epoch 52/71\n",
      "41/41 [==============================] - 1s 17ms/step - loss: 0.2639 - accuracy: 0.9218 - val_loss: 0.6869 - val_accuracy: 0.7914\n",
      "Epoch 53/71\n",
      "41/41 [==============================] - 1s 17ms/step - loss: 0.1810 - accuracy: 0.9463 - val_loss: 0.4090 - val_accuracy: 0.8834\n",
      "Epoch 54/71\n",
      "41/41 [==============================] - 1s 17ms/step - loss: 0.1311 - accuracy: 0.9724 - val_loss: 0.4418 - val_accuracy: 0.8773\n",
      "Epoch 55/71\n",
      "41/41 [==============================] - 1s 17ms/step - loss: 0.1223 - accuracy: 0.9739 - val_loss: 0.4045 - val_accuracy: 0.8834\n",
      "Epoch 56/71\n",
      "41/41 [==============================] - 1s 17ms/step - loss: 0.0902 - accuracy: 0.9816 - val_loss: 0.3571 - val_accuracy: 0.9018\n",
      "Epoch 57/71\n",
      "41/41 [==============================] - 1s 17ms/step - loss: 0.0783 - accuracy: 0.9831 - val_loss: 0.4010 - val_accuracy: 0.9018\n",
      "Epoch 58/71\n",
      "41/41 [==============================] - 1s 17ms/step - loss: 0.0605 - accuracy: 0.9923 - val_loss: 0.3831 - val_accuracy: 0.9018\n",
      "Epoch 59/71\n",
      "41/41 [==============================] - 1s 17ms/step - loss: 0.0555 - accuracy: 0.9939 - val_loss: 0.3868 - val_accuracy: 0.8957\n",
      "Epoch 60/71\n",
      "41/41 [==============================] - 1s 17ms/step - loss: 0.0514 - accuracy: 0.9908 - val_loss: 0.3796 - val_accuracy: 0.9018\n",
      "Epoch 61/71\n",
      "41/41 [==============================] - 1s 17ms/step - loss: 0.0459 - accuracy: 0.9969 - val_loss: 0.3776 - val_accuracy: 0.8957\n",
      "Epoch 62/71\n",
      "41/41 [==============================] - 1s 17ms/step - loss: 0.0421 - accuracy: 0.9969 - val_loss: 0.3908 - val_accuracy: 0.9018\n",
      "Epoch 63/71\n",
      "41/41 [==============================] - 1s 17ms/step - loss: 0.0393 - accuracy: 0.9969 - val_loss: 0.3708 - val_accuracy: 0.8957\n",
      "Epoch 64/71\n",
      "41/41 [==============================] - 1s 17ms/step - loss: 0.0372 - accuracy: 0.9969 - val_loss: 0.3886 - val_accuracy: 0.8896\n",
      "Epoch 65/71\n",
      "41/41 [==============================] - 1s 17ms/step - loss: 0.0348 - accuracy: 0.9969 - val_loss: 0.3889 - val_accuracy: 0.9018\n",
      "Epoch 66/71\n",
      "41/41 [==============================] - 1s 17ms/step - loss: 0.0329 - accuracy: 0.9969 - val_loss: 0.3838 - val_accuracy: 0.8957\n",
      "Epoch 67/71\n",
      "41/41 [==============================] - 1s 17ms/step - loss: 0.0316 - accuracy: 0.9985 - val_loss: 0.3962 - val_accuracy: 0.8896\n",
      "Epoch 68/71\n",
      "41/41 [==============================] - 1s 17ms/step - loss: 0.0300 - accuracy: 0.9985 - val_loss: 0.3837 - val_accuracy: 0.8957\n",
      "Epoch 69/71\n",
      "41/41 [==============================] - 1s 17ms/step - loss: 0.0287 - accuracy: 0.9985 - val_loss: 0.3888 - val_accuracy: 0.9018\n",
      "Epoch 70/71\n",
      "41/41 [==============================] - 1s 17ms/step - loss: 0.0271 - accuracy: 0.9985 - val_loss: 0.3911 - val_accuracy: 0.8957\n",
      "Epoch 71/71\n",
      "41/41 [==============================] - 1s 17ms/step - loss: 0.0264 - accuracy: 0.9985 - val_loss: 0.3806 - val_accuracy: 0.8957\n",
      "Test performance: accuracy=0.89570552110672, loss=0.38064688444137573\n"
     ]
    }
   ],
   "source": [
    "## Layer 2, epoch 71\n",
    "# loss: 0.0264 - accuracy: 0.9985 - val_loss: 0.3806 - val_accuracy: 0.8957\n",
    "\n",
    "import tensorflow as tf\n",
    "\n",
    "gpus = tf.config.experimental.list_physical_devices('GPU')\n",
    "if gpus:\n",
    "    # 특정 GPU에 1GB 메모리만 할당하도록 제한\n",
    "    try:\n",
    "        tf.config.experimental.set_visible_devices(gpus[0], 'GPU')\n",
    "        tf.config.experimental.set_virtual_device_configuration(\n",
    "            gpus[0],\n",
    "            [tf.config.experimental.VirtualDeviceConfiguration(memory_limit=2000)])\n",
    "    except RuntimeError as e:\n",
    "    # 프로그램 시작시에 가상 장치가 설정되어야만 합니s다\n",
    "        print(e)\n",
    "\n",
    "with tf.device('/device:GPU:0'): \n",
    "    # 모델 정의 하기\n",
    "    label = y_train.shape[1]\n",
    "\n",
    "    model = Sequential()\n",
    "    model.add(LSTM(64, return_sequences=True,\n",
    "                   input_shape=(a, b))) \n",
    "    model.add(LSTM(32))\n",
    "    model.add(Dense(label, activation='softmax'))\n",
    "    model.compile(loss='categorical_crossentropy',\n",
    "                  optimizer='adam',\n",
    "                  metrics=['accuracy'])\n",
    "    model.summary()\n",
    "    print('Training stage')\n",
    "    print('==============')\n",
    "    history = model.fit(x_train,\n",
    "                        y_train,\n",
    "                        epochs = 71,\n",
    "                        batch_size = 16,\n",
    "                        validation_data = (x_test, y_test))\n",
    "    score, acc = model.evaluate(x_test, y_test, batch_size = 16, verbose=0)\n",
    "    print('Test performance: accuracy={0}, loss={1}'.format(acc, score))\n",
    "    model.save('LSTM_layer2_71epochs.h5') "
   ]
  }
 ],
 "metadata": {
  "colab": {
   "collapsed_sections": [],
   "name": "predict,train_최종.ipynb",
   "provenance": []
  },
  "kernelspec": {
   "display_name": "Python [conda env:tensorflow2_latest_p37] *",
   "language": "python",
   "name": "conda-env-tensorflow2_latest_p37-py"
  },
  "language_info": {
   "codemirror_mode": {
    "name": "ipython",
    "version": 3
   },
   "file_extension": ".py",
   "mimetype": "text/x-python",
   "name": "python",
   "nbconvert_exporter": "python",
   "pygments_lexer": "ipython3",
   "version": "3.7.6"
  }
 },
 "nbformat": 4,
 "nbformat_minor": 4
}
